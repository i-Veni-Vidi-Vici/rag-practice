{
 "cells": [
  {
   "cell_type": "code",
   "execution_count": 1,
   "id": "3a7b977d",
   "metadata": {},
   "outputs": [],
   "source": [
    "# LangSmith 추적을 설정합니다. https://smith.langchain.com\n",
    "import os\n",
    "\n",
    "# 프로젝트 이름을 입력합니다.\n",
    "os.environ[\"LANGSMITH_PROJECT\"] = \"Model-Test\" # 프로젝트명"
   ]
  },
  {
   "cell_type": "code",
   "execution_count": 4,
   "id": "ad297f96",
   "metadata": {},
   "outputs": [
    {
     "name": "stdout",
     "output_type": "stream",
     "text": [
      "deep learning은 machine learning의 일종이며, neural network의 복잡성을 나타내는 용어입니다. neural network가 복잡한 데이터를 학습하고 예측하기 위해, deep learning에서는 여러 개의 hidden layer를 사용하여 input data를 처리합니다.\n",
      "\n",
      "이러한 hidden layers는 input과 output 간에 있어서, 차원을 높이고, 학습되기 전 input data의 특징을 추출하는 데 사용됩니다. deep learning은 자연어 처리(NLP), 이미지 처리(computer vision) 등 많은 분야에서 성공적으로 활용되고 있습니다.\n",
      "\n",
      "예를 들어, 이미지 클래스фика션을 위해 deep learning 알고리즘인 Convolutional Neural Network(CNN)은 input image의 filter를 통해 feature maps를 생성하여, 이러한 feature maps를 다음 계층으로 전달하고, 최종적으로 output label을 출력합니다.\n",
      "\n",
      "또한 deep learning은 backpropagation과 gradient descent와 같은 optimization algorithms를 활용하여 training data에 대해 학습을 진행하며, overfitting이나 underfitting과 같은 문제점을 피해가기 위해 regularization techniques를 적용합니다."
     ]
    }
   ],
   "source": [
    "from langchain_ollama import ChatOllama\n",
    "from langchain_core.output_parsers import StrOutputParser\n",
    "from langchain_core.prompts import ChatPromptTemplate\n",
    "\n",
    "# Ollama 모델을 불러옵니다.\n",
    "llm = ChatOllama(model=\"mistral:latest\")\n",
    "\n",
    "# 프롬프트\n",
    "prompt = ChatPromptTemplate.from_template(\"{topic} 에 대하여 간략히 설명해 줘.\")\n",
    "\n",
    "# 체인 생성\n",
    "chain = prompt | llm | StrOutputParser()\n",
    "\n",
    "# 간결성을 위해 응답은 터미널에 출력됩니다.\n",
    "response = chain.stream({\"topic\": \"deep learning\"})\n",
    "\n",
    "# 스트리밍 출력\n",
    "for token in response:\n",
    "       print(token, end=\"\", flush=True)"
   ]
  },
  {
   "cell_type": "code",
   "execution_count": 5,
   "id": "caa68386",
   "metadata": {},
   "outputs": [
    {
     "name": "stdout",
     "output_type": "stream",
     "text": [
      "## 딥러닝(Deep Learning)이란 무엇일까요?\n",
      "\n",
      "딥러닝은 인공지능(AI)의 한 분야로, **인간의 뇌 신경망을 모방**하여 컴퓨터가 스스로 학습하고 패턴을 인식하도록 하는 기술입니다. 핵심은 **심층 신경망(Deep Neural Network)**이라는 복잡한 알고리즘을 사용하는 것입니다.\n",
      "\n",
      "**1. 신경망(Neural Network)이란?**\n",
      "\n",
      "*   **인간 뇌의 신경망 모방:** 인간의 뇌는 뉴런이라는 세포들이 서로 연결되어 정보를 처리하고 학습합니다. 딥러닝은 이러한 신경망의 구조를 컴퓨터 시스템에 구현합니다.\n",
      "*   **층(Layer) 구성:** 신경망은 여러 개의 층으로 구성됩니다.\n",
      "    *   **입력층(Input Layer):** 데이터를 입력받는 층입니다.\n",
      "    *   **은닉층(Hidden Layer):** 입력층과 출력층 사이에 위치하며, 복잡한 특징을 학습하는 층입니다. 딥러닝은 이 은닉층의 수를 **많이** 사용하여 ‘깊은(Deep) 신경망’이라고 부릅니다.\n",
      "    *   **출력층(Output Layer):** 최종 결과를 출력하는 층입니다.\n",
      "\n",
      "**2. 딥러닝의 특징**\n",
      "\n",
      "*   **데이터 기반 학습:** 딥러닝은 방대한 양의 데이터를 통해 스스로 학습합니다.\n",
      "*   **자동 특징 추출:** 기존 방식에서는 사람이 직접 특징을 추출해야 했지만, 딥러닝은 데이터에서 자동으로 특징을 추출합니다.\n",
      "*   **심층 구조:** 심층 신경망을 사용하여 복잡한 패턴을 학습합니다.\n",
      "\n",
      "**3. 딥러닝의 활용 분야**\n",
      "\n",
      "*   **이미지 인식:** 사진 속 객체 인식, 얼굴 인식 등\n",
      "*   **음성 인식:** 음성 명령 인식, 자동 번역 등\n",
      "*   **자연어 처리:** 챗봇, 번역, 텍스트 생성 등\n",
      "*   **추천 시스템:** 유튜브 추천, 쇼핑몰 상품 추천 등\n",
      "*   **자율 주행:** 자동차의 주변 환경 인식, 경로 설정 등\n",
      "\n",
      "**4. 딥러닝의 종류**\n",
      "\n",
      "*   **CNN (Convolutional Neural Network):** 이미지 처리 분야에서 주로 사용됩니다.\n",
      "*   **RNN (Recurrent Neural Network):** 시퀀스 데이터(텍스트, 음성 등) 처리에 적합합니다.\n",
      "*   **GAN (Generative Adversarial Network):** 새로운 데이터를 생성하는 데 사용됩니다.\n",
      "\n",
      "**쉽게 말해, 딥러닝은 컴퓨터가 인간처럼 생각하고 학습하여 다양한 문제를 해결할 수 있도록 돕는 강력한 기술입니다.**\n",
      "\n",
      "궁금한 점이 있다면 언제든지 질문해주세요."
     ]
    }
   ],
   "source": [
    "from langchain_ollama import ChatOllama\n",
    "from langchain_core.output_parsers import StrOutputParser\n",
    "from langchain_core.prompts import ChatPromptTemplate\n",
    "\n",
    "# Ollama 모델을 불러옵니다.\n",
    "llm = ChatOllama(model=\"gemma3:4b\")\n",
    "\n",
    "# 프롬프트\n",
    "prompt = ChatPromptTemplate.from_template(\"{topic} 에 대하여 간략히 설명해 줘.\")\n",
    "\n",
    "# 체인 생성\n",
    "chain = prompt | llm | StrOutputParser()\n",
    "\n",
    "# 간결성을 위해 응답은 터미널에 출력됩니다.\n",
    "response = chain.stream({\"topic\": \"deep learning\"})\n",
    "\n",
    "# 스트리밍 출력\n",
    "for token in response:\n",
    "       print(token, end=\"\", flush=True)"
   ]
  },
  {
   "cell_type": "code",
   "execution_count": null,
   "id": "6a76c637",
   "metadata": {},
   "outputs": [],
   "source": [
    "from langchain_ollama import ChatOllama\n",
    "from langchain_core.output_parsers import StrOutputParser\n",
    "from langchain_core.prompts import ChatPromptTemplate\n",
    "\n",
    "# Ollama 모델을 불러옵니다.\n",
    "llm = ChatOllama(model=\"gemma3:4b\")\n",
    "\n",
    "# 프롬프트\n",
    "prompt = ChatPromptTemplate.from_template(\"{topic} 에 대하여 간략히 설명해 줘.\")\n",
    "\n",
    "# 체인 생성\n",
    "chain = prompt | llm | StrOutputParser()\n",
    "\n",
    "# 간결성을 위해 응답은 터미널에 출력됩니다.\n",
    "response = chain.stream({\"topic\": \"deep learning\"})\n",
    "\n",
    "# 스트리밍 출력\n",
    "for token in response:\n",
    "       print(token, end=\"\", flush=True)"
   ]
  }
 ],
 "metadata": {
  "kernelspec": {
   "display_name": "rag-practice-5mlbKkJI-py3.11",
   "language": "python",
   "name": "python3"
  },
  "language_info": {
   "codemirror_mode": {
    "name": "ipython",
    "version": 3
   },
   "file_extension": ".py",
   "mimetype": "text/x-python",
   "name": "python",
   "nbconvert_exporter": "python",
   "pygments_lexer": "ipython3",
   "version": "3.11.9"
  }
 },
 "nbformat": 4,
 "nbformat_minor": 5
}
